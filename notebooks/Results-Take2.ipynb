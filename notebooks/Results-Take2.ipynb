{
 "cells": [
  {
   "cell_type": "code",
   "execution_count": 1,
   "metadata": {
    "collapsed": true,
    "deletable": true,
    "editable": true
   },
   "outputs": [],
   "source": [
    "import numpy as np\n",
    "import scipy as sp\n",
    "import matplotlib.pyplot as plt\n",
    "from scipy.stats import binom_test\n",
    "from collections import Counter"
   ]
  },
  {
   "cell_type": "code",
   "execution_count": 21,
   "metadata": {
    "collapsed": true,
    "deletable": true,
    "editable": true
   },
   "outputs": [],
   "source": [
    "\"\"\"\n",
    "Notes: (Team) 0=Red; 1=Blue.\n",
    "\n",
    "Sanity checks*:\n",
    "700544763  team0:40 (R)  vs.  team1:51 (B)  https://halo.bungie.net/Stats/Reach/GameStats.aspx?gameid=700544763\n",
    "700544766  team0:57 (R)  vs.  team1:75 (B)\n",
    "700544767  team0:50 (R)  vs.  team1:44 (B)\n",
    "700544771  team0:50 (R)  vs.  team1:34 (B)\n",
    "700544773  team0:15 (R)  vs.  team1:25 (B)\n",
    "\n",
    "GameVariantName == \"Slayer\" (ignoring other variations)\n",
    "\n",
    "Results format:\n",
    "<game_id>,<frac_team0_points>,<num_players>,<team0bails>,<team1bails>\n",
    "\"\"\"\n",
    "\n",
    "game_sizes = [4, 6, 8, 10, 12, 14, 16]"
   ]
  },
  {
   "cell_type": "code",
   "execution_count": 130,
   "metadata": {
    "collapsed": false,
    "deletable": true,
    "editable": true
   },
   "outputs": [],
   "source": [
    "results = {}\n",
    "total_results = 0.\n",
    "total_with_bails = 0.\n",
    "for i in game_sizes: results[i] = []\n",
    "    \n",
    "results_file = '/Users/samfway/Desktop/Halo/REDO_COMBINED.txt'\n",
    "for line in open(results_file, 'rU'):\n",
    "    pieces = line.strip().replace('\\x00', '').split(',')\n",
    "    if len(pieces) == 8:\n",
    "        total_with_bails += 1\n",
    "        if int(pieces[4]) == 0 and int(pieces[5]) == 0:  # No one dropped out\n",
    "            if int(pieces[6]) < 120:\n",
    "                red = float(pieces[2])\n",
    "                blue = float(pieces[3])\n",
    "                red_frac = red / (red+blue)\n",
    "                results[int(pieces[1])].append(red_frac)\n",
    "                total_results += 1"
   ]
  },
  {
   "cell_type": "code",
   "execution_count": 131,
   "metadata": {
    "collapsed": false,
    "deletable": true,
    "editable": true
   },
   "outputs": [
    {
     "name": "stdout",
     "output_type": "stream",
     "text": [
      "Out of 2041450 games, 1280982 (62.75%) ended normally (no player from either team dropping).\n"
     ]
    }
   ],
   "source": [
    "print \"Out of %d games, %d (%.2f%%) ended normally (no player from either team dropping).\" % (total_with_bails, \n",
    "                                                                                            total_results,\n",
    "                                                                                            total_results*100./total_with_bails)"
   ]
  },
  {
   "cell_type": "code",
   "execution_count": 132,
   "metadata": {
    "collapsed": false,
    "deletable": true,
    "editable": true
   },
   "outputs": [
    {
     "name": "stdout",
     "output_type": "stream",
     "text": [
      "Distribution of games ending normally.\n",
      "size \tgames\t\t  % of total\n",
      "4: \t59991    \t  (4.68%)\n",
      "6: \t45770    \t  (3.57%)\n",
      "8: \t1128375    \t  (88.09%)\n",
      "10: \t3737    \t  (0.29%)\n",
      "12: \t9792    \t  (0.76%)\n",
      "14: \t3453    \t  (0.27%)\n",
      "16: \t29864    \t  (2.33%)\n"
     ]
    }
   ],
   "source": [
    "print 'Distribution of games ending normally.'\n",
    "print 'size \\tgames\\t\\t  % of total'\n",
    "for i in game_sizes:\n",
    "    print '%d: \\t%d    \\t  (%.2f%%)' % (i, len(results[i]), 100.*len(results[i])/total_results)"
   ]
  },
  {
   "cell_type": "code",
   "execution_count": 133,
   "metadata": {
    "collapsed": false
   },
   "outputs": [
    {
     "name": "stdout",
     "output_type": "stream",
     "text": [
      "0.508554580138\n"
     ]
    },
    {
     "data": {
      "image/png": "[encoded data removed]",
      "text/plain": [
       "<matplotlib.figure.Figure at 0x1129b43d0>"
      ]
     },
     "metadata": {},
     "output_type": "display_data"
    }
   ],
   "source": [
    "bins = np.linspace(0,1,21)\n",
    "print np.mean(results[8])\n",
    "plt.hist(results[8], bins=bins)\n",
    "plt.show()"
   ]
  },
  {
   "cell_type": "code",
   "execution_count": 134,
   "metadata": {
    "collapsed": false,
    "deletable": true,
    "editable": true
   },
   "outputs": [
    {
     "name": "stdout",
     "output_type": "stream",
     "text": [
      "4: \t 0.598706 \t (N=59991, p=0.000000)\n",
      "6: \t 0.553157 \t (N=45770, p=0.000000)\n",
      "8: \t 0.534569 \t (N=1128375, p=0.000000)\n",
      "10: \t 0.540273 \t (N=3737, p=0.000000)\n",
      "12: \t 0.521650 \t (N=9792, p=0.000010)\n",
      "14: \t 0.511150 \t (N=3453, p=0.097942)\n",
      "16: \t 0.502679 \t (N=29864, p=0.178767)\n",
      "ALL: \t 0.537348 \t (N=1280982, p=0.000000)\n"
     ]
    }
   ],
   "source": [
    "fracs = []\n",
    "\n",
    "for i in game_sizes:\n",
    "    count = np.sum(np.array(results[i]) > 0.5)\n",
    "    try:\n",
    "        frac = 1.*count / len(results[i])\n",
    "        fracs.append(frac)\n",
    "        print '%d: \\t %.6f \\t (N=%d, p=%f)' % (i, frac, len(results[i]), \n",
    "                                               binom_test(count, len(results[i]), p=0.5, \n",
    "                                                          alternative='greater'))\n",
    "    except:\n",
    "        fracs.append(None)\n",
    "    \n",
    "total_count = 0\n",
    "total_games = 0\n",
    "for i in game_sizes:\n",
    "    total_count += np.sum(np.array(results[i]) > 0.5)\n",
    "    total_games += len(results[i])\n",
    "frac = 1.*total_count/total_games\n",
    "        \n",
    "print 'ALL: \\t %.6f \\t (N=%d, p=%f)' % (frac, total_games, \n",
    "                                       binom_test(total_count, total_games, p=0.5, alternative='greater'))"
   ]
  },
  {
   "cell_type": "code",
   "execution_count": 135,
   "metadata": {
    "collapsed": false,
    "deletable": true,
    "editable": true
   },
   "outputs": [
    {
     "data": {
      "image/png": "[encoded data removed]",
      "text/plain": [
       "<matplotlib.figure.Figure at 0x112d93b50>"
      ]
     },
     "metadata": {},
     "output_type": "display_data"
    }
   ],
   "source": [
    "fig, ax = plt.subplots(1,1)\n",
    "\n",
    "ax.plot(game_sizes, fracs, '-o')\n",
    "ax.set_ylim(0.5, 0.6)\n",
    "ax.set_xlabel('Number of Players', fontsize=14)\n",
    "ax.set_ylabel('Fraction of Red wins', fontsize=14)\n",
    "\n",
    "plt.show()"
   ]
  },
  {
   "cell_type": "code",
   "execution_count": 136,
   "metadata": {
    "collapsed": false,
    "deletable": true,
    "editable": true
   },
   "outputs": [
    {
     "name": "stdout",
     "output_type": "stream",
     "text": [
      "0\n"
     ]
    }
   ],
   "source": [
    "ids = []\n",
    "\n",
    "for line in open(results_file, 'rU'):\n",
    "    pieces = line.strip().replace('\\x00', '').split(',')\n",
    "    if len(pieces) == 5:\n",
    "        ids.append(int(pieces[0]))\n",
    "        \n",
    "sorted_ids = np.sort(ids)\n",
    "repeated = 0\n",
    "\n",
    "# Sort them, and look for duplicated (identical, adjacent) entries.\n",
    "for i in xrange(len(sorted_ids)-1):\n",
    "    if sorted_ids[i] == sorted_ids[i+1]:\n",
    "        repeated += 1\n",
    "    \n",
    "# How many game ids are repeated in the results file?\n",
    "print repeated"
   ]
  },
  {
   "cell_type": "code",
   "execution_count": 137,
   "metadata": {
    "collapsed": false,
    "deletable": true,
    "editable": true
   },
   "outputs": [
    {
     "data": {
      "text/plain": [
       "Ttest_1sampResult(statistic=95.163398680334922, pvalue=0.0)"
      ]
     },
     "execution_count": 137,
     "metadata": {},
     "output_type": "execute_result"
    }
   ],
   "source": [
    "sp.stats.ttest_1samp(results[8], popmean=0.500)"
   ]
  },
  {
   "cell_type": "code",
   "execution_count": 138,
   "metadata": {
    "collapsed": false,
    "deletable": true,
    "editable": true
   },
   "outputs": [
    {
     "data": {
      "text/plain": [
       "0.50855458013784516"
      ]
     },
     "execution_count": 138,
     "metadata": {},
     "output_type": "execute_result"
    }
   ],
   "source": [
    "np.mean(results[8])"
   ]
  },
  {
   "cell_type": "code",
   "execution_count": 139,
   "metadata": {
    "collapsed": false,
    "deletable": true,
    "editable": true
   },
   "outputs": [
    {
     "name": "stdout",
     "output_type": "stream",
     "text": [
      "0.533898272852\n"
     ]
    },
    {
     "data": {
      "image/png": "[encoded data removed]",
      "text/plain": [
       "<matplotlib.figure.Figure at 0x1129b4b50>"
      ]
     },
     "metadata": {},
     "output_type": "display_data"
    },
    {
     "name": "stdout",
     "output_type": "stream",
     "text": [
      "0.515087787979\n"
     ]
    },
    {
     "data": {
      "image/png": "[encoded data removed]",
      "text/plain": [
       "<matplotlib.figure.Figure at 0x112dd3750>"
      ]
     },
     "metadata": {},
     "output_type": "display_data"
    },
    {
     "name": "stdout",
     "output_type": "stream",
     "text": [
      "0.508554580138\n"
     ]
    },
    {
     "data": {
      "image/png": "[encoded data removed]",
      "text/plain": [
       "<matplotlib.figure.Figure at 0x1133bf750>"
      ]
     },
     "metadata": {},
     "output_type": "display_data"
    },
    {
     "name": "stdout",
     "output_type": "stream",
     "text": [
      "0.509268245263\n"
     ]
    },
    {
     "data": {
      "image/png": "[encoded data removed]",
      "text/plain": [
       "<matplotlib.figure.Figure at 0x112d53cd0>"
      ]
     },
     "metadata": {},
     "output_type": "display_data"
    },
    {
     "name": "stdout",
     "output_type": "stream",
     "text": [
      "0.506900440188\n"
     ]
    },
    {
     "data": {
      "image/png": "[encoded data removed]",
      "text/plain": [
       "<matplotlib.figure.Figure at 0x112da74d0>"
      ]
     },
     "metadata": {},
     "output_type": "display_data"
    },
    {
     "name": "stdout",
     "output_type": "stream",
     "text": [
      "0.504634582926\n"
     ]
    },
    {
     "data": {
      "image/png": "[encoded data removed]",
      "text/plain": [
       "<matplotlib.figure.Figure at 0x1128d5190>"
      ]
     },
     "metadata": {},
     "output_type": "display_data"
    },
    {
     "name": "stdout",
     "output_type": "stream",
     "text": [
      "0.502410199463\n"
     ]
    },
    {
     "data": {
      "image/png": "[encoded data removed]",
      "text/plain": [
       "<matplotlib.figure.Figure at 0x113444a50>"
      ]
     },
     "metadata": {},
     "output_type": "display_data"
    }
   ],
   "source": [
    "for i in game_sizes:\n",
    "    fig, ax = plt.subplots(1,1,figsize=(6,4))\n",
    "    bins = np.linspace(0,1,21)\n",
    "    print np.mean(results[i])\n",
    "    plt.hist(results[i], bins=bins)\n",
    "    plt.show()"
   ]
  },
  {
   "cell_type": "code",
   "execution_count": null,
   "metadata": {
    "collapsed": true
   },
   "outputs": [],
   "source": []
  },
  {
   "cell_type": "code",
   "execution_count": null,
   "metadata": {
    "collapsed": true
   },
   "outputs": [],
   "source": []
  },
  {
   "cell_type": "code",
   "execution_count": null,
   "metadata": {
    "collapsed": true
   },
   "outputs": [],
   "source": []
  }
 ],
 "metadata": {
  "kernelspec": {
   "display_name": "Python 2",
   "language": "python",
   "name": "python2"
  },
  "language_info": {
   "codemirror_mode": {
    "name": "ipython",
    "version": 2
   },
   "file_extension": ".py",
   "mimetype": "text/x-python",
   "name": "python",
   "nbconvert_exporter": "python",
   "pygments_lexer": "ipython2",
   "version": "2.7.10"
  }
 },
 "nbformat": 4,
 "nbformat_minor": 2
}
